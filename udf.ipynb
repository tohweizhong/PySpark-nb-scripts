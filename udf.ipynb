{
 "cells": [
  {
   "cell_type": "code",
   "execution_count": 7,
   "metadata": {
    "collapsed": false
   },
   "outputs": [],
   "source": [
    "import os\n",
    "import sys\n",
    "\n",
    "spark_path = \"/Users/weizhong/stk/spark-1.6.0-bin-hadoop2.6\"\n",
    "\n",
    "os.environ['SPARK_HOME'] = spark_path\n",
    "os.environ['HADOOP_HOME'] = spark_path\n",
    "#os.environ['PYSPARK_PYTHON'] = 'C:\\Users\\Wei Zhong\\Anaconda3\\envs\\python2\\python' # <---\n",
    "\n",
    "sys.path.append(spark_path + \"/bin\")\n",
    "sys.path.append(spark_path + \"/python\")\n",
    "sys.path.append(spark_path + \"/python/pyspark/\")\n",
    "sys.path.append(spark_path + \"/python/lib\")\n",
    "sys.path.append(spark_path + \"/python/lib/pyspark.zip\")\n",
    "sys.path.append(spark_path + \"/python/lib/py4j-0.9-src.zip\")\n",
    "\n",
    "from pyspark import SparkContext\n",
    "from pyspark import SparkConf\n",
    "from pyspark.sql import SQLContext\n",
    "from pyspark.sql.types import *\n",
    "\n",
    "sc = SparkContext(\"local\")\n",
    "sqlCtx = SQLContext(sc)"
   ]
  },
  {
   "cell_type": "code",
   "execution_count": 9,
   "metadata": {
    "collapsed": false
   },
   "outputs": [
    {
     "name": "stdout",
     "output_type": "stream",
     "text": [
      "+-------+---------+-----+--------+\n",
      "|student|  subject|score|category|\n",
      "+-------+---------+-----+--------+\n",
      "|   John|     Math|   13|       D|\n",
      "|   John|      Sci|   85|       A|\n",
      "|   John|Geography|   77|       B|\n",
      "|   John|  History|   25|       D|\n",
      "|   Mike|     Math|   50|       C|\n",
      "|   Mike|      Sci|   45|       C|\n",
      "|   Mike|Geography|   65|       B|\n",
      "|   Mike|  History|   79|       B|\n",
      "|   Matt|     Math|    9|       D|\n",
      "|   Matt|      Sci|    2|       D|\n",
      "+-------+---------+-----+--------+\n",
      "only showing top 10 rows\n",
      "\n"
     ]
    }
   ],
   "source": [
    "# Generate Random Data\n",
    "import itertools\n",
    "import random\n",
    "students = ['John', 'Mike','Matt']\n",
    "subjects = ['Math', 'Sci', 'Geography', 'History']\n",
    "random.seed(1)\n",
    "data = []\n",
    " \n",
    "for (student, subject) in itertools.product(students, subjects):\n",
    "    data.append((student, subject, random.randint(0, 100)))\n",
    " \n",
    "# Create Schema Object\n",
    "from pyspark.sql.types import StructType, StructField, IntegerType, StringType\n",
    "schema = StructType([\n",
    "            StructField(\"student\", StringType(), nullable=False),\n",
    "            StructField(\"subject\", StringType(), nullable=False),\n",
    "            StructField(\"score\", IntegerType(), nullable=False)\n",
    "    ])\n",
    " \n",
    "# Create DataFrame \n",
    "#from pyspark.sql import HiveContext\n",
    "#sqlContext = HiveContext(sc)\n",
    "rdd = sc.parallelize(data)\n",
    "df = sqlCtx.createDataFrame(rdd, schema)\n",
    " \n",
    "# Define udf\n",
    "from pyspark.sql.functions import udf\n",
    "def scoreToCategory(score):\n",
    "    if score >= 80: return 'A'\n",
    "    elif score >= 60: return 'B'\n",
    "    elif score >= 35: return 'C'\n",
    "    else: return 'D'\n",
    " \n",
    "udfScoreToCategory=udf(scoreToCategory, StringType())\n",
    "df.withColumn(\"category\", udfScoreToCategory(\"score\")).show(10)"
   ]
  },
  {
   "cell_type": "code",
   "execution_count": 10,
   "metadata": {
    "collapsed": true
   },
   "outputs": [],
   "source": [
    "sc.stop()"
   ]
  },
  {
   "cell_type": "code",
   "execution_count": null,
   "metadata": {
    "collapsed": true
   },
   "outputs": [],
   "source": []
  }
 ],
 "metadata": {
  "anaconda-cloud": {},
  "kernelspec": {
   "display_name": "Python [conda root]",
   "language": "python",
   "name": "conda-root-py"
  },
  "language_info": {
   "codemirror_mode": {
    "name": "ipython",
    "version": 2
   },
   "file_extension": ".py",
   "mimetype": "text/x-python",
   "name": "python",
   "nbconvert_exporter": "python",
   "pygments_lexer": "ipython2",
   "version": "2.7.12"
  }
 },
 "nbformat": 4,
 "nbformat_minor": 1
}
